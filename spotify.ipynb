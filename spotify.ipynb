{
 "cells": [
  {
   "cell_type": "code",
   "execution_count": null,
   "id": "2ea77a9e",
   "metadata": {},
   "outputs": [],
   "source": [
    "import warnings\n",
    "import numpy as np\n",
    "import pandas as pd\n",
    "import matplotlib.pyplot as plt\n",
    "import seaborn as sns\n",
    "from tqdm import tqdm\n",
    "sns.set()\n",
    "\n",
    "data = pd.read_csv(\"C:/Users/HEPL/Downloads/spotify.csv\")\n",
    "data.head()"
   ]
  },
  {
   "cell_type": "code",
   "execution_count": null,
   "id": "42e36140",
   "metadata": {},
   "outputs": [],
   "source": [
    "data.info()"
   ]
  },
  {
   "cell_type": "code",
   "execution_count": null,
   "id": "f91ccc12",
   "metadata": {},
   "outputs": [],
   "source": [
    "data.isnull().sum()"
   ]
  },
  {
   "cell_type": "code",
   "execution_count": null,
   "id": "16ce50d9",
   "metadata": {},
   "outputs": [],
   "source": [
    "df = data.drop(columns=['id', 'name', 'artists', 'release_date', 'year'])\n",
    "df.corr()"
   ]
  },
  {
   "cell_type": "code",
   "execution_count": null,
   "id": "b234ced9",
   "metadata": {},
   "outputs": [],
   "source": [
    "from sklearn.preprocessing import MinMaxScaler\n",
    "datatypes = ['int16', 'int32', 'int64', 'float16', 'float32', 'float64']\n",
    "normarization = data.select_dtypes(include=datatypes)\n",
    "for col in normarization.columns:\n",
    "    MinMaxScaler(col)"
   ]
  },
  {
   "cell_type": "code",
   "execution_count": null,
   "id": "5b5494aa",
   "metadata": {},
   "outputs": [],
   "source": [
    "from sklearn.cluster import KMeans\n",
    "kmeans = KMeans(n_clusters=10)\n",
    "features = kmeans.fit_predict(normarization)\n",
    "data['features'] = features\n",
    "result = MinMaxScaler(data['features'])"
   ]
  },
  {
   "cell_type": "code",
   "execution_count": null,
   "id": "5f1a6a0e",
   "metadata": {},
   "outputs": [],
   "source": [
    "result"
   ]
  },
  {
   "cell_type": "code",
   "execution_count": null,
   "id": "f7bef159",
   "metadata": {},
   "outputs": [],
   "source": [
    "class Spotify_Recommendation():\n",
    "    def __init__(self, dataset):\n",
    "        self.dataset = dataset\n",
    "    def recommend(self, songs, amount=1):\n",
    "        distance = []\n",
    "        song = self.dataset[(self.dataset.name.str.lower() == songs.lower())].head(1).values[0]\n",
    "        rec = self.dataset[self.dataset.name.str.lower() != songs.lower()]\n",
    "        for songs in tqdm(rec.values):\n",
    "            d = 0\n",
    "            for col in np.arange(len(rec.columns)):\n",
    "                if not col in [1, 6, 12, 14, 18]:\n",
    "                    d = d + np.absolute(float(song[col]) - float(songs[col]))\n",
    "            distance.append(d)\n",
    "        rec['distance'] = distance\n",
    "        rec = rec.sort_values('distance')\n",
    "        columns = ['artists', 'name']\n",
    "        return rec[columns][:amount]\n",
    "\n",
    "recommendations = Spotify_Recommendation(data)\n",
    "recommendations.recommend(\"Nicotine\", 10)"
   ]
  }
 ],
 "metadata": {
  "kernelspec": {
   "display_name": "Python 3 (ipykernel)",
   "language": "python",
   "name": "python3"
  },
  "language_info": {
   "codemirror_mode": {
    "name": "ipython",
    "version": 3
   },
   "file_extension": ".py",
   "mimetype": "text/x-python",
   "name": "python",
   "nbconvert_exporter": "python",
   "pygments_lexer": "ipython3",
   "version": "3.10.0"
  }
 },
 "nbformat": 4,
 "nbformat_minor": 5
}
